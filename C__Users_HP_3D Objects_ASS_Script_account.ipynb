{
 "cells": [
  {
   "cell_type": "code",
   "execution_count": 1,
   "id": "2fcb7bfd",
   "metadata": {},
   "outputs": [
    {
     "name": "stdout",
     "output_type": "stream",
     "text": [
      "Requirement already satisfied: beautifulsoup4 in c:\\users\\hp\\anaconda3\\lib\\site-packages (4.9.3)\n",
      "Requirement already satisfied: soupsieve>1.2 in c:\\users\\hp\\anaconda3\\lib\\site-packages (from beautifulsoup4) (2.2.1)\n"
     ]
    }
   ],
   "source": [
    "!pip install beautifulsoup4"
   ]
  },
  {
   "cell_type": "code",
   "execution_count": 2,
   "id": "1e8870a0",
   "metadata": {},
   "outputs": [],
   "source": [
    "import requests\n",
    "from bs4 import BeautifulSoup\n",
    "import re\n",
    "import time"
   ]
  },
  {
   "cell_type": "code",
   "execution_count": null,
   "id": "c48a61b6",
   "metadata": {},
   "outputs": [],
   "source": [
    "# Function to fetch and parse tweets\n",
    "def fetch_tweets(username):\n",
    "    url = f\"https://twitter.com/{username}\"\n",
    "    headers = {\n",
    "        'User-Agent': 'Mozilla/5.0 (Windows NT 10.0; Win64; x64) AppleWebKit/537.36 (KHTML, like Gecko) Chrome/91.0.4472.124 Safari/537.36'\n",
    "    }\n",
    "    response = requests.get(url, headers=headers)\n",
    "    \n",
    "    if response.status_code != 200:\n",
    "        print(f\"Failed to fetch tweets from {username}\")\n",
    "        return []\n",
    "\n",
    "    soup = BeautifulSoup(response.content, 'html.parser')\n",
    "    tweets = soup.find_all('div', {'data-testid': 'tweet'})\n",
    "    return [tweet.get_text() for tweet in tweets]\n",
    "\n"
   ]
  },
  {
   "cell_type": "code",
   "execution_count": null,
   "id": "81b95949",
   "metadata": {},
   "outputs": [
    {
     "name": "stdout",
     "output_type": "stream",
     "text": [
      "'$TSLA' was mentioned '0' times in the last '15' minutes.\n",
      "'$TSLA' was mentioned '0' times in the last '15' minutes.\n",
      "'$TSLA' was mentioned '0' times in the last '15' minutes.\n"
     ]
    }
   ],
   "source": [
    "# Function to count stock symbol mentions\n",
    "def count_stock_mentions(tweets, ticker):\n",
    "    count = sum(tweet.count(ticker) for tweet in tweets)\n",
    "    return count\n",
    "\n",
    "# Main function to scrape and display results\n",
    "def main(usernames, ticker, interval):\n",
    "    while True:\n",
    "        total_mentions = 0\n",
    "        for username in usernames:\n",
    "            try:\n",
    "                tweets = fetch_tweets(username)\n",
    "                mentions = count_stock_mentions(tweets, ticker)\n",
    "                total_mentions += mentions\n",
    "            except Exception as e:\n",
    "                print(f\"Error fetching tweets from {username}: {e}\")\n",
    "\n",
    "        print(f\"'{ticker}' was mentioned '{total_mentions}' times in the last '{interval}' minutes.\")\n",
    "        time.sleep(interval * 60)\n",
    "\n",
    "# Inputs\n",
    "usernames = [\n",
    "    \"Mr_Derivatives\", \"warrior_0719\", \"ChartingProdigy\", \"allstarcharts\",\n",
    "    \"yuriymatso\", \"TriggerTrades\", \"AdamMancini4\", \"CordovaTrades\", \n",
    "    \"Barchart\", \"RoyLMattox\"\n",
    "]\n",
    "ticker = \"$TSLA\"\n",
    "interval = 15  # Time interval in minutes\n",
    "\n",
    "# Run the scraper\n",
    "if __name__ == \"__main__\":\n",
    "    main(usernames, ticker, interval)\n"
   ]
  },
  {
   "cell_type": "code",
   "execution_count": null,
   "id": "8132ca50",
   "metadata": {},
   "outputs": [],
   "source": []
  }
 ],
 "metadata": {
  "kernelspec": {
   "display_name": "Python 3",
   "language": "python",
   "name": "python3"
  },
  "language_info": {
   "codemirror_mode": {
    "name": "ipython",
    "version": 3
   },
   "file_extension": ".py",
   "mimetype": "text/x-python",
   "name": "python",
   "nbconvert_exporter": "python",
   "pygments_lexer": "ipython3",
   "version": "3.8.8"
  }
 },
 "nbformat": 4,
 "nbformat_minor": 5
}
